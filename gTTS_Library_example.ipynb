{
  "nbformat": 4,
  "nbformat_minor": 0,
  "metadata": {
    "colab": {
      "provenance": [],
      "include_colab_link": true
    },
    "kernelspec": {
      "name": "python3",
      "display_name": "Python 3"
    },
    "language_info": {
      "name": "python"
    }
  },
  "cells": [
    {
      "cell_type": "markdown",
      "metadata": {
        "id": "view-in-github",
        "colab_type": "text"
      },
      "source": [
        "<a href=\"https://colab.research.google.com/github/alesito500/TPLN/blob/master/gTTS_Library_example.ipynb\" target=\"_parent\"><img src=\"https://colab.research.google.com/assets/colab-badge.svg\" alt=\"Open In Colab\"/></a>"
      ]
    },
    {
      "cell_type": "code",
      "execution_count": 1,
      "metadata": {
        "colab": {
          "base_uri": "https://localhost:8080/"
        },
        "id": "0rQaFXlaQNV0",
        "outputId": "3d109064-0e59-42c0-8cbd-ecb276fbf415"
      },
      "outputs": [
        {
          "output_type": "stream",
          "name": "stdout",
          "text": [
            "Collecting gtts\n",
            "  Downloading gTTS-2.5.0-py3-none-any.whl (29 kB)\n",
            "Requirement already satisfied: requests<3,>=2.27 in /usr/local/lib/python3.10/dist-packages (from gtts) (2.31.0)\n",
            "Requirement already satisfied: click<8.2,>=7.1 in /usr/local/lib/python3.10/dist-packages (from gtts) (8.1.7)\n",
            "Requirement already satisfied: charset-normalizer<4,>=2 in /usr/local/lib/python3.10/dist-packages (from requests<3,>=2.27->gtts) (3.3.2)\n",
            "Requirement already satisfied: idna<4,>=2.5 in /usr/local/lib/python3.10/dist-packages (from requests<3,>=2.27->gtts) (3.6)\n",
            "Requirement already satisfied: urllib3<3,>=1.21.1 in /usr/local/lib/python3.10/dist-packages (from requests<3,>=2.27->gtts) (2.0.7)\n",
            "Requirement already satisfied: certifi>=2017.4.17 in /usr/local/lib/python3.10/dist-packages (from requests<3,>=2.27->gtts) (2023.11.17)\n",
            "Installing collected packages: gtts\n",
            "Successfully installed gtts-2.5.0\n"
          ]
        }
      ],
      "source": [
        "!pip install gtts"
      ]
    },
    {
      "cell_type": "markdown",
      "source": [],
      "metadata": {
        "id": "2dW0ExwX1Pp7"
      }
    },
    {
      "cell_type": "code",
      "source": [
        "from gtts import gTTS\n",
        "import IPython.display as ipd\n",
        "\n",
        "def text_to_speech(text, output_file=\"output.mp3\", lang=\"es\", accent=\"com.mx\"):\n",
        "    tts = gTTS(text=text, lang=lang, slow=False)\n",
        "    tts.save(output_file)\n",
        "    return output_file"
      ],
      "metadata": {
        "id": "IQAMVBRUTOL-"
      },
      "execution_count": 2,
      "outputs": []
    },
    {
      "cell_type": "code",
      "source": [
        "input_text = \"baca\"\n",
        "output_file = \"{}.mp3\".format(input_text)\n",
        "\n",
        "# Download & play the audio\n",
        "audio_file = text_to_speech(input_text, output_file)\n",
        "print(output_file)\n",
        "ipd.Audio(audio_file)\n",
        "\n",
        "# Documentation: https://gtts.readthedocs.io/en/latest/\n",
        "# Github: https://github.com/pndurette/gTTS/blob/main/README.md"
      ],
      "metadata": {
        "colab": {
          "base_uri": "https://localhost:8080/",
          "height": 79
        },
        "id": "lch3vDBuTROA",
        "outputId": "01c3204a-1cfd-468f-fa05-fd6c32c6867f"
      },
      "execution_count": 23,
      "outputs": [
        {
          "output_type": "stream",
          "name": "stdout",
          "text": [
            "baca.mp3\n"
          ]
        },
        {
          "output_type": "execute_result",
          "data": {
            "text/plain": [
              "<IPython.lib.display.Audio object>"
            ],
            "text/html": [
              "\n",
              "                <audio  controls=\"controls\" >\n",
              "                    <source src=\"data:audio/mpeg;base64,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\" type=\"audio/mpeg\" />\n",
              "                    Your browser does not support the audio element.\n",
              "                </audio>\n",
              "              "
            ]
          },
          "metadata": {},
          "execution_count": 23
        }
      ]
    }
  ]
}